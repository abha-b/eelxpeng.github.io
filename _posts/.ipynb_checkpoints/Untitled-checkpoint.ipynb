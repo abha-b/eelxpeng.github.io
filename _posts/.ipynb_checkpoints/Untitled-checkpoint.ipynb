{
 "cells": [
  {
   "cell_type": "markdown",
   "metadata": {},
   "source": [
    "# Markov Chain Monte Carlo"
   ]
  },
  {
   "cell_type": "markdown",
   "metadata": {},
   "source": [
    "As an experiment of Metroplis Hastings algorithm, I find [this link](http://isaacslavitt.com/2013/12/30/metropolis-hastings-and-slice-sampling/) useful. It also compares Metropolis Hastings with slice sampling, both are worth investigating. Following experiments are based on the post.\n",
    "\n",
    "Anyway, first let's describe the model we are going to MCMC with. It's a two level hierachical model:\n",
    "\n",
    "$$\n",
    "v \\sim \\mathcal{N}(v|0,3^2)\\\\\n",
    "x_k|v \\sim \\mathcal{N}(x_k|0,e^v) \\ \\text{for} \\  k=0,1,...,9\n",
    "$$\n",
    "\n",
    "The joint distribution is obviously given by\n",
    "\n",
    "$$\n",
    "p(v,x_1,x_2,...,x_9) = \\mathcal{N}(v|0,3^2) \\prod_{k=1}^{9} \\mathcal{N}(x_k|0,e^v)\n",
    "$$\n",
    "\n",
    "The class defining the distribution for sampling and probability density evaluation is given:"
   ]
  },
  {
   "cell_type": "code",
   "execution_count": 5,
   "metadata": {
    "collapsed": true
   },
   "outputs": [],
   "source": [
    "from __future__ import division\n",
    "\n",
    "import numpy as np\n",
    "import scipy.stats as ss\n",
    "\n",
    "\n",
    "class joint_dist(object):\n",
    "\n",
    "    def rvs(self, n=1):\n",
    "        \"\"\" sample a random variable from this distribution \"\"\"\n",
    "        sample = np.zeros((10, n))\n",
    "\n",
    "        for i in xrange(n):\n",
    "            # generate rvs\n",
    "            v = ss.norm(0, 3).rvs()\n",
    "            xs = ss.norm(0, np.sqrt(np.e**v)).rvs(9)\n",
    "            # place in sample array\n",
    "            sample[0, i] = v\n",
    "            sample[1:, i] = xs\n",
    "\n",
    "        return sample\n",
    "\n",
    "    def pdf(self, sample):\n",
    "        \"\"\" get the probability of a specific sample \"\"\"\n",
    "        v = sample[0]\n",
    "        pv = ss.norm(0, 3).pdf(v)\n",
    "        xs = sample[1:]\n",
    "        pxs = [ss.norm(0, np.sqrt(np.e**v)).pdf(x_k) for x_k in xs]\n",
    "        return np.array([pv] + pxs)\n",
    "\n",
    "    def loglike(self, sample):\n",
    "        \"\"\" log likelihood of a specific sample \"\"\"\n",
    "        return np.sum(np.log(self.pdf(sample)))"
   ]
  },
  {
   "cell_type": "markdown",
   "metadata": {},
   "source": [
    "The current state is defined as $w=[v,x_1,x_2,...,x_9]$. And the proposal funciton is defined as symmetric normal distribution with the current state as mean: $q(w'|w)=\\mathcal{N}(w,\\mathbf{1}_{10})$.\n",
    "\n",
    "The Metropolis-Hasting function is defined:"
   ]
  },
  {
   "cell_type": "code",
   "execution_count": 6,
   "metadata": {
    "collapsed": true
   },
   "outputs": [],
   "source": [
    "def metropolis(init, iters):\n",
    "    \"\"\"\n",
    "    based on http://www.cs.toronto.edu/~asamir/cifar/rpa-tutorial.pdf\n",
    "    \n",
    "    can take several minutes to run with large sample sizes.\n",
    "    \"\"\"\n",
    "    dist = joint_dist()\n",
    "\n",
    "    # set up empty sample holder\n",
    "    D = len(init)\n",
    "    samples = np.zeros((D, iters))\n",
    "\n",
    "    # initialize state and log-likelihood\n",
    "    state = init.copy()\n",
    "    Lp_state = dist.loglike(state)\n",
    "\n",
    "    accepts = 0\n",
    "    for i in np.arange(0, iters):\n",
    "        \n",
    "        # propose a new state\n",
    "        prop = np.random.multivariate_normal(state.ravel(), np.eye(10)).reshape(D, 1)\n",
    "\n",
    "        Lp_prop = dist.loglike(prop)\n",
    "        rand = np.random.rand()\n",
    "        if np.log(rand) < (Lp_prop - Lp_state):\n",
    "            accepts += 1\n",
    "            state = prop.copy()\n",
    "            Lp_state = Lp_prop\n",
    "\n",
    "        samples[:, i] = state.copy().ravel()\n",
    "        \n",
    "        if i % 1000 == 0: print('[#iter: %d]' %i)\n",
    "\n",
    "    print 'Acceptance ratio', accepts/iters\n",
    "    return samples"
   ]
  },
  {
   "cell_type": "markdown",
   "metadata": {},
   "source": [
    "Let's start by taking 50,000 samples using Metropolis-Hastings."
   ]
  },
  {
   "cell_type": "code",
   "execution_count": 7,
   "metadata": {
    "collapsed": true
   },
   "outputs": [
    {
     "name": "stdout",
     "output_type": "stream",
     "text": [
      "[#iter: 0]\n",
      "[#iter: 1000]\n",
      "[#iter: 2000]\n",
      "[#iter: 3000]\n",
      "[#iter: 4000]\n",
      "[#iter: 5000]\n",
      "[#iter: 6000]\n",
      "[#iter: 7000]\n",
      "[#iter: 8000]\n",
      "[#iter: 9000]\n",
      "[#iter: 10000]\n",
      "[#iter: 11000]\n",
      "[#iter: 12000]\n",
      "[#iter: 13000]\n",
      "[#iter: 14000]\n",
      "[#iter: 15000]\n",
      "[#iter: 16000]\n",
      "[#iter: 17000]\n",
      "[#iter: 18000]\n",
      "[#iter: 19000]\n",
      "[#iter: 20000]\n",
      "[#iter: 21000]\n",
      "[#iter: 22000]\n",
      "[#iter: 23000]\n",
      "[#iter: 24000]\n",
      "[#iter: 25000]\n",
      "[#iter: 26000]\n",
      "[#iter: 27000]\n",
      "[#iter: 28000]\n",
      "[#iter: 29000]\n",
      "[#iter: 30000]\n",
      "[#iter: 31000]\n",
      "[#iter: 32000]\n",
      "[#iter: 33000]\n",
      "[#iter: 34000]\n",
      "[#iter: 35000]\n",
      "[#iter: 36000]\n",
      "[#iter: 37000]\n",
      "[#iter: 38000]\n",
      "[#iter: 39000]\n",
      "[#iter: 40000]\n",
      "[#iter: 41000]\n",
      "[#iter: 42000]\n",
      "[#iter: 43000]\n",
      "[#iter: 44000]\n",
      "[#iter: 45000]\n",
      "[#iter: 46000]\n",
      "[#iter: 47000]\n",
      "[#iter: 48000]\n",
      "[#iter: 49000]\n",
      "Acceptance ratio 0.24342\n"
     ]
    },
    {
     "ename": "NameError",
     "evalue": "name 'plt' is not defined",
     "output_type": "error",
     "traceback": [
      "\u001b[0;31m---------------------------------------------------------------------------\u001b[0m",
      "\u001b[0;31mNameError\u001b[0m                                 Traceback (most recent call last)",
      "\u001b[0;32m<ipython-input-7-b06c69874b68>\u001b[0m in \u001b[0;36m<module>\u001b[0;34m()\u001b[0m\n\u001b[1;32m     13\u001b[0m \u001b[0mv\u001b[0m \u001b[0;34m=\u001b[0m \u001b[0msamples\u001b[0m\u001b[0;34m[\u001b[0m\u001b[0;36m0\u001b[0m\u001b[0;34m,\u001b[0m \u001b[0;34m:\u001b[0m\u001b[0;34m]\u001b[0m\u001b[0;34m\u001b[0m\u001b[0m\n\u001b[1;32m     14\u001b[0m \u001b[0;34m\u001b[0m\u001b[0m\n\u001b[0;32m---> 15\u001b[0;31m \u001b[0mfig\u001b[0m\u001b[0;34m,\u001b[0m \u001b[0;34m(\u001b[0m\u001b[0max0\u001b[0m\u001b[0;34m,\u001b[0m \u001b[0max1\u001b[0m\u001b[0;34m)\u001b[0m \u001b[0;34m=\u001b[0m \u001b[0mplt\u001b[0m\u001b[0;34m.\u001b[0m\u001b[0msubplots\u001b[0m\u001b[0;34m(\u001b[0m\u001b[0;36m2\u001b[0m\u001b[0;34m,\u001b[0m \u001b[0;36m1\u001b[0m\u001b[0;34m)\u001b[0m\u001b[0;34m\u001b[0m\u001b[0m\n\u001b[0m\u001b[1;32m     16\u001b[0m \u001b[0;34m\u001b[0m\u001b[0m\n\u001b[1;32m     17\u001b[0m \u001b[0;31m# show values of sampled v by iteration\u001b[0m\u001b[0;34m\u001b[0m\u001b[0;34m\u001b[0m\u001b[0m\n",
      "\u001b[0;31mNameError\u001b[0m: name 'plt' is not defined"
     ]
    }
   ],
   "source": [
    "# define our starting point\n",
    "w_0 = np.array([0., 1., 1., 1., 1., 1., 1., 1., 1., 1.])\n",
    "\n",
    "# actually do the sampling\n",
    "n = 50000\n",
    "samples = metropolis(w_0, n)"
   ]
  },
  {
   "cell_type": "code",
   "execution_count": 28,
   "metadata": {
    "collapsed": false
   },
   "outputs": [
    {
     "data": {
      "image/png": "[encoded data removed]",
      "text/plain": [
       "<matplotlib.figure.Figure at 0x114882050>"
      ]
     },
     "metadata": {},
     "output_type": "display_data"
    }
   ],
   "source": [
    "import matplotlib.pyplot as plt\n",
    "%matplotlib inline  \n",
    "from matplotlib import rcParams\n",
    "rcParams['font.size'] = 12\n",
    "rcParams['figure.figsize'] = (10, 6)\n",
    "\n",
    "burnin = 10000\n",
    "m = n-burnin\n",
    "v = samples[0, burnin:]\n",
    "fig = plt.figure()\n",
    "ax0 = fig.add_subplot(211)\n",
    "#fig, (ax0, ax1) = plt.subplots(2, 1)\n",
    "\n",
    "# show values of sampled v by iteration\n",
    "ax0.plot(np.arange(m), v)\n",
    "ax0.set_xlabel('iteration number')\n",
    "ax0.set_ylabel('value of sampled v')\n",
    "\n",
    "ax1 = fig.add_subplot(212)\n",
    "# plot a histogram of values of v\n",
    "ax1.hist(v, bins=80)\n",
    "ax1.set_xlabel('values of sampled v')\n",
    "ax1.set_ylabel('observations')\n",
    "\n",
    "plt.show()"
   ]
  },
  {
   "cell_type": "markdown",
   "metadata": {},
   "source": [
    "As it should be noticed that the sampled $v$ is not Gaussian distributed, rather skewed. However, we know that $v$ is in fact zero-mean gaussian distributed. The skewed sampling is not good to estimate the true distribution of $v$. As discussed in the original post, it is because under the directed regime — any small or negative $v$ implies that every $x_k∼\\mathcal{N}(0,e^v \\approx 0)$, thus imposing a huge probability \"penalty\" on any non-zero $x_k$. Meanwhile, our Metropolis-Hastings is naively proposing a vector of $x_k$s which are probably not all zero, so we tend to reject any small or negative $v$.\n",
    "\n",
    "So for slice sampling:"
   ]
  },
  {
   "cell_type": "code",
   "execution_count": 29,
   "metadata": {
    "collapsed": true
   },
   "outputs": [],
   "source": [
    "def slice_sample(init, iters, sigma, step_out=True):\n",
    "    \"\"\"\n",
    "    based on http://homepages.inf.ed.ac.uk/imurray2/teaching/09mlss/\n",
    "    sigma is the step size of each coordinate\n",
    "    \"\"\"\n",
    "\n",
    "    dist = joint_dist()\n",
    "\n",
    "    # set up empty sample holder\n",
    "    D = len(init)\n",
    "    samples = np.zeros((D, iters))\n",
    "\n",
    "    # initialize\n",
    "    xx = init.copy()\n",
    "\n",
    "    for i in xrange(iters):\n",
    "        perm = range(D)\n",
    "        np.random.shuffle(perm)\n",
    "        last_llh = dist.loglike(xx)\n",
    "\n",
    "        # Sweep through axes (simplest thing)\n",
    "        for d in perm:\n",
    "            # u|x ~ [0,1]*p(x)\n",
    "            llh0 = last_llh + np.log(np.random.rand())\n",
    "            \n",
    "            # Create a horizontal interval (x_l, x_r) enclosing xx\n",
    "            rr = np.random.rand(1)\n",
    "            x_l = xx.copy()\n",
    "            x_l[d] = x_l[d] - rr * sigma[d]\n",
    "            x_r = xx.copy()\n",
    "            x_r[d] = x_r[d] + (1 - rr) * sigma[d]\n",
    "\n",
    "            # step out p(x)>u'\n",
    "            if step_out:\n",
    "                llh_l = dist.loglike(x_l)\n",
    "                while llh_l > llh0:\n",
    "                    x_l[d] = x_l[d] - sigma[d]\n",
    "                    llh_l = dist.loglike(x_l)\n",
    "                llh_r = dist.loglike(x_r)\n",
    "                while llh_r > llh0:\n",
    "                    x_r[d] = x_r[d] + sigma[d]\n",
    "                    llh_r = dist.loglike(x_r)\n",
    "\n",
    "            x_cur = xx.copy()\n",
    "            while True:\n",
    "                xd = np.random.rand() * (x_r[d] - x_l[d]) + x_l[d]\n",
    "                x_cur[d] = xd.copy()\n",
    "                last_llh = dist.loglike(x_cur)\n",
    "                if last_llh > llh0: #this is the only way to leave the while loop, satiesfy p(x)>u'\n",
    "                    xx[d] = xd.copy()\n",
    "                    break\n",
    "                elif xd > xx[d]:\n",
    "                    x_r[d] = xd\n",
    "                elif xd < xx[d]:\n",
    "                    x_l[d] = xd\n",
    "                else:\n",
    "                    raise RuntimeError('Slice sampler shrank too far.')\n",
    "\n",
    "        if i % 1000 == 0: print 'iteration', i\n",
    "\n",
    "        samples[:, i] = xx.copy().ravel()\n",
    "\n",
    "    return samples"
   ]
  },
  {
   "cell_type": "code",
   "execution_count": null,
   "metadata": {
    "collapsed": true
   },
   "outputs": [],
   "source": [
    "# define our starting point\n",
    "w_0 = np.array([0., 1., 1., 1., 1., 1., 1., 1., 1., 1.])\n",
    "\n",
    "# actually do the sampling\n",
    "n = 10000\n",
    "sigma = np.ones(10)\n",
    "samples = slice_sample(w_0, iters=n, sigma=sigma)"
   ]
  },
  {
   "cell_type": "code",
   "execution_count": null,
   "metadata": {
    "collapsed": true
   },
   "outputs": [],
   "source": [
    "burnin = 0\n",
    "m = n-burnin\n",
    "v = samples[0, burnin:]\n",
    "fig = plt.figure()\n",
    "ax0 = fig.add_subplot(211)\n",
    "#fig, (ax0, ax1) = plt.subplots(2, 1)\n",
    "\n",
    "# show values of sampled v by iteration\n",
    "ax0.plot(np.arange(m), v)\n",
    "ax0.set_xlabel('iteration number')\n",
    "ax0.set_ylabel('value of sampled v')\n",
    "\n",
    "ax1 = fig.add_subplot(212)\n",
    "# plot a histogram of values of v\n",
    "ax1.hist(v, bins=80)\n",
    "ax1.set_xlabel('values of sampled v')\n",
    "ax1.set_ylabel('observations')\n",
    "\n",
    "plt.show()"
   ]
  }
 ],
 "metadata": {
  "kernelspec": {
   "display_name": "Python 2",
   "language": "python",
   "name": "python2"
  },
  "language_info": {
   "codemirror_mode": {
    "name": "ipython",
    "version": 2
   },
   "file_extension": ".py",
   "mimetype": "text/x-python",
   "name": "python",
   "nbconvert_exporter": "python",
   "pygments_lexer": "ipython2",
   "version": "2.7.12"
  }
 },
 "nbformat": 4,
 "nbformat_minor": 0
}
